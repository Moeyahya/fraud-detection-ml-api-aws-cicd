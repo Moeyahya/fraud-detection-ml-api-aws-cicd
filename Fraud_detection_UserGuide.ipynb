{
 "cells": [
  {
   "cell_type": "markdown",
   "id": "99396b2a-a7f9-4fa8-8974-87bbf06768b9",
   "metadata": {},
   "source": [
    "# Fraud Detection API: Complete Project Documentation\n",
    "### From Local Development to Production CI/CD Pipeline"
   ]
  },
  {
   "cell_type": "markdown",
   "id": "62a85fe2-c97e-4419-8c2d-9259878a78be",
   "metadata": {},
   "source": [
    "## Table of Contents\n",
    "#### 1- Project Setup & Structure\n",
    "\n",
    "#### 2- Code Modularization\n",
    "\n",
    "#### 3- Local Testing (Flask API)\n",
    "\n",
    "#### 4- Docker Containerization\n",
    "\n",
    "#### 5- Kubernetes Deployment\n",
    "\n",
    "#### 6- CI/CD Pipeline Implementation\n",
    "\n",
    "#### 7- Troubleshooting Guide\n",
    "\n",
    "#### 8- Final Workflow Diagrams"
   ]
  },
  {
   "cell_type": "markdown",
   "id": "f1abf704-c38a-42d8-bb7d-8434d4f20039",
   "metadata": {},
   "source": [
    "### Phase 1: Building the Fraud Detection Model\n",
    "#### Initial Repository Setup"
   ]
  },
  {
   "cell_type": "code",
   "execution_count": null,
   "id": "0fbc5c9c-3ef5-4e52-8562-1dfbd8b26fc5",
   "metadata": {},
   "outputs": [],
   "source": [
    "# In powershell\n",
    "# Create project folder\n",
    "mkdir fraud-detection-cicd\n",
    "cd fraud-detection-cicd\n",
    "\n",
    "# Initialize Git\n",
    "git init\n",
    "\n",
    "# Create directory structure\n",
    "mkdir -p src/{config,preprocess,feature_engineer,train,predict,evaluate} tests deployments data models logs"
   ]
  },
  {
   "cell_type": "markdown",
   "id": "7517d7a4-6792-4567-bc35-71c66c78c551",
   "metadata": {},
   "source": [
    "#### Project Structure "
   ]
  },
  {
   "cell_type": "code",
   "execution_count": null,
   "id": "34772b7e-201b-4752-957b-1cca17db7dbd",
   "metadata": {},
   "outputs": [],
   "source": [
    "fraud-detection-cicd/\n",
    "├── .github/workflows/\n",
    "│   ├── ci.yml\n",
    "│   └── cd.yml\n",
    "├── src/\n",
    "│   ├── config.py\n",
    "│   ├── preprocess.py\n",
    "│   ├── feature_engineer.py\n",
    "│   ├── train.py\n",
    "│   ├── predict.py\n",
    "│   ├── evaluate.py\n",
    "│   ├── serve.py\n",
    "│   ├── setup.py\n",
    "│   ├── app.py\n",
    "│   └── __init__.py\n",
    "├── tests/\n",
    "│   ├── __init__.py\n",
    "│   └── test_app.py\n",
    "├── deployments/\n",
    "│   ├── deployment.yaml\n",
    "│   ├── codebuild-project.json\n",
    "│   ├── codebuild-role.json\n",
    "│   ├── ecs-policy.json\n",
    "│   ├── ecs-service.yaml\n",
    "│   ├── pipeline.json\n",
    "│   ├── task-definition.json\n",
    "│   └── service.yaml\n",
    "├── data                \n",
    "│        └── sample_fraud.csv\n",
    "├── logs \n",
    "├── Models\n",
    "│        └── fraud_model.joblib\n",
    "├── bucket-policy.json\n",
    "├── buildspec.yml\n",
    "├── codebuild-access-policy.json\n",
    "├── codebuild-policy.json\n",
    "├── requirements.txt \n",
    "├── Dockerfile\n",
    "├── requirements.txt\n",
    "└── .gitignore"
   ]
  },
  {
   "cell_type": "markdown",
   "id": "8c37f327-543c-4523-966c-034ba06f5cce",
   "metadata": {},
   "source": [
    "#### Install Dependencies\n",
    "##### Create requirements.txt with your specifications"
   ]
  },
  {
   "cell_type": "code",
   "execution_count": null,
   "id": "58a78021-1ac9-4304-aca2-2be4ec90012b",
   "metadata": {},
   "outputs": [],
   "source": [
    "pandas>=1.5.0\n",
    "scikit-learn>=1.2.0\n",
    "Flask>=2.0.0\n",
    "joblib>=1.0.0\n",
    "imbalanced-learn>=0.10.0\n",
    "scipy>=1.7.0\n",
    "numpy>=1.21.0\n",
    "waitress>=2.1.0\n",
    "gunicorn==20.1.0\n",
    "python-dotenv==1.0.0"
   ]
  },
  {
   "cell_type": "markdown",
   "id": "12e6a432-e275-4c68-9bb2-03abfda0d844",
   "metadata": {},
   "source": [
    "#### Key Files:\n",
    "\n",
    "#### src/: Contains all Python modules\n",
    "\n",
    "#### deployments/: AWS infrastructure templates\n",
    "\n",
    "#### .github/workflows/: CI/CD automation"
   ]
  },
  {
   "cell_type": "markdown",
   "id": "d3d8da53-e361-42d5-aba6-398382a8e9d3",
   "metadata": {},
   "source": [
    "### Code Modularization\n",
    "#### Key Modules"
   ]
  },
  {
   "cell_type": "markdown",
   "id": "bb806ad7-053d-4e75-94ff-0ed4ccb7c97e",
   "metadata": {},
   "source": [
    "#### 1-Data Configuration (src/config.py)"
   ]
  },
  {
   "cell_type": "code",
   "execution_count": null,
   "id": "e01c268d-7bf3-4abd-999c-151a35c0908b",
   "metadata": {},
   "outputs": [],
   "source": [
    "from pathlib import Path\n",
    "from datetime import datetime\n",
    "import os\n",
    "import sys\n",
    "\n",
    "# Project setup\n",
    "PROJECT_ROOT = Path(__file__).parent.parent\n",
    "\n",
    "# Data configuration\n",
    "DATA_DIR = PROJECT_ROOT / 'data'\n",
    "DATA_DIR.mkdir(exist_ok=True)\n",
    "\n",
    "# Try these data files in order (first found will be used)\n",
    "DATA_PATHS = [\n",
    "    DATA_DIR / 'sample_fraud.csv',  # Small sample for CI/testing (should be committed)\n",
    "    DATA_DIR / 'Fraud.csv',        # Full dataset for local development (gitignored)\n",
    "    Path(r'C:\\Projects\\fraud_detection\\data\\Fraud.csv')  # Fallback to original location\n",
    "]\n",
    "\n",
    "DATA_PATH = None\n",
    "for path in DATA_PATHS:\n",
    "    if path.exists():\n",
    "        DATA_PATH = path\n",
    "        break\n",
    "\n",
    "if DATA_PATH is None:\n",
    "    print(\"\\nERROR: No suitable data file found. Please:\", file=sys.stderr)\n",
    "    print(\"1. Add 'sample_fraud.csv' to project's data/ folder for testing\", file=sys.stderr)\n",
    "    print(\"2. Or add 'Fraud.csv' to project's data/ folder for development\", file=sys.stderr)\n",
    "    print(f\"3. Or keep original at C:\\\\Projects\\\\fraud_detection\\\\data\\\\Fraud.csv\", file=sys.stderr)\n",
    "    print(\"\\nCreating empty data directory...\", file=sys.stderr)\n",
    "    (DATA_DIR / '.gitkeep').touch()\n",
    "    sys.exit(1)\n",
    "\n",
    "print(f\"\\nℹ️ Using data file at: {DATA_PATH}\")\n",
    "\n",
    "# Model configuration\n",
    "MODEL_DIR = PROJECT_ROOT / 'models'\n",
    "MODEL_DIR.mkdir(exist_ok=True)\n",
    "MODEL_PATH = MODEL_DIR / 'fraud_model.joblib'\n",
    "\n",
    "# Logs configuration\n",
    "LOG_DIR = PROJECT_ROOT / 'logs'\n",
    "LOG_DIR.mkdir(exist_ok=True)\n",
    "\n",
    "# Data processing parameters\n",
    "N_ROWS = None  # Set to None to use all rows, or specify a number (e.g., 100000)\n",
    "AMOUNT_PERCENTILE = 0.95\n",
    "BALANCE_PERCENTILE = 0.9\n",
    "\n",
    "# Model training parameters\n",
    "RANDOM_STATE = 42\n",
    "TEST_SIZE = 0.3\n",
    "SMOTE_RATIO = 0.3\n",
    "\n",
    "class AppConfig:\n",
    "    # API Settings\n",
    "    HOST = \"0.0.0.0\"\n",
    "    PORT = 8080\n",
    "    DEBUG = False\n",
    "    \n",
    "    # Model Monitoring\n",
    "    PREDICTION_LOGS = LOG_DIR / \"predictions.log\"\n",
    "    DRIFT_THRESHOLD = 0.15\n",
    "    \n",
    "    # Performance\n",
    "    MAX_REQUEST_SIZE = 1024 * 1024  # 1MB\n",
    "    \n",
    "    @classmethod\n",
    "    def validate_paths(cls):\n",
    "        \"\"\"Ensure all required directories exist\"\"\"\n",
    "        required_dirs = [\n",
    "            DATA_DIR,\n",
    "            MODEL_DIR,\n",
    "            LOG_DIR\n",
    "        ]\n",
    "        for directory in required_dirs:\n",
    "            directory.mkdir(exist_ok=True)\n",
    "            \n",
    "        if not DATA_PATH.exists():\n",
    "            raise FileNotFoundError(f\"Data file not found at {DATA_PATH}\")\n",
    "\n",
    "# Initialize directories\n",
    "AppConfig.validate_paths()\n",
    "\n",
    "# Environment detection\n",
    "IS_CI = os.getenv('CI') == 'true'\n",
    "IS_TEST = os.getenv('TEST_MODE') == 'true'\n",
    "\n",
    "if __name__ == '__main__':\n",
    "    print(\"\\nCurrent Configuration:\")\n",
    "    print(f\"Project Root: {PROJECT_ROOT}\")\n",
    "    print(f\"Data File: {DATA_PATH}\")\n",
    "    print(f\"Model Path: {MODEL_PATH}\")\n",
    "    print(f\"Log Directory: {LOG_DIR}\")\n",
    "    print(f\"CI Mode: {IS_CI}\")\n",
    "    print(f\"Test Mode: {IS_TEST}\")"
   ]
  },
  {
   "cell_type": "markdown",
   "id": "ba46607e-7e04-4505-a84a-9914e31d0fec",
   "metadata": {},
   "source": [
    "#### 2- Data Preprocessing (src/preprocess.py)\n",
    "\n",
    "#### What it does\n",
    "\n",
    "Loads transaction data\n",
    "\n",
    "Handles missing values\n",
    "\n",
    "Splits into train/test sets\n",
    "\n",
    "Applies feature engineering"
   ]
  },
  {
   "cell_type": "code",
   "execution_count": null,
   "id": "157f0eb5-8f88-4b2a-b05c-97eb8ba3548b",
   "metadata": {},
   "outputs": [],
   "source": [
    "import pandas as pd\n",
    "from sklearn.preprocessing import PowerTransformer\n",
    "from sklearn.model_selection import train_test_split\n",
    "from imblearn.over_sampling import SMOTE\n",
    "from src.config import DATA_PATH, N_ROWS, TEST_SIZE, RANDOM_STATE, SMOTE_RATIO\n",
    "from src.feature_engineer import engineer_features\n",
    "\n",
    "def load_and_preprocess():\n",
    "    \"\"\"Load and preprocess data with proper error handling\"\"\"\n",
    "    try:\n",
    "        print(f\"Loading data from: {DATA_PATH}\")\n",
    "        df = pd.read_csv(DATA_PATH, nrows=N_ROWS)\n",
    "        \n",
    "        print(\"Applying feature engineering...\")\n",
    "        df = engineer_features(df)\n",
    "        \n",
    "        X = df.drop(['isFraud', 'nameOrig', 'nameDest'], axis=1)\n",
    "        y = df['isFraud']\n",
    "        \n",
    "        # Train-test split\n",
    "        X_train, X_test, y_train, y_test = train_test_split(\n",
    "            X, y, test_size=TEST_SIZE, random_state=RANDOM_STATE, stratify=y\n",
    "        )\n",
    "        \n",
    "        # Scaling\n",
    "        pt = PowerTransformer(method='yeo-johnson')\n",
    "        X_train_scaled = pt.fit_transform(X_train)\n",
    "        X_test_scaled = pt.transform(X_test)\n",
    "        \n",
    "        # Resampling\n",
    "        smote = SMOTE(sampling_strategy=SMOTE_RATIO, random_state=RANDOM_STATE)\n",
    "        X_res, y_res = smote.fit_resample(X_train_scaled, y_train)\n",
    "        \n",
    "        return X_res, y_res, X_test_scaled, y_test, pt\n",
    "        \n",
    "    except Exception as e:\n",
    "        print(f\"Error in preprocessing: {str(e)}\")\n",
    "        raise"
   ]
  },
  {
   "cell_type": "markdown",
   "id": "20617228-2a42-4027-9bd0-83ecea4a0a45",
   "metadata": {},
   "source": [
    "#### To run:\n",
    "\n",
    "python src/preprocess.py"
   ]
  },
  {
   "cell_type": "markdown",
   "id": "fb50184e-7616-49d8-901b-fc7e3358ab31",
   "metadata": {},
   "source": [
    "#### 3- Feature Engineering (src/feature_engineer.py)\n",
    "\n",
    "#### Key Features Created:\n",
    "\n",
    "Transaction amount relative to account balance\n",
    "\n",
    "Time-based features (hour, day of week)\n",
    "\n",
    "Suspicious activity flags"
   ]
  },
  {
   "cell_type": "code",
   "execution_count": null,
   "id": "81b11b47-b2d8-48f0-ba72-bbe84d80f277",
   "metadata": {},
   "outputs": [],
   "source": [
    "import pandas as pd\n",
    "import numpy as np\n",
    "from src.config import AMOUNT_PERCENTILE, BALANCE_PERCENTILE\n",
    "\n",
    "def engineer_features(df):\n",
    "    \"\"\"Feature engineering pipeline\"\"\"\n",
    "    # Transaction features\n",
    "    amt_thresh = df[df['isFraud']==0]['amount'].quantile(AMOUNT_PERCENTILE)\n",
    "    bal_thresh = df[df['isFraud']==0]['oldbalanceOrg'].quantile(BALANCE_PERCENTILE)\n",
    "    \n",
    "    df['amount_to_balance'] = df['amount'] / (df['oldbalanceOrg'] + 1)\n",
    "    df['high_amount_flag'] = (df['amount'] > amt_thresh).astype(int)\n",
    "    df['balance_change_abs'] = df['oldbalanceOrg'] - df['newbalanceOrig']\n",
    "    df['suspicious_withdrawal'] = (\n",
    "        (df['balance_change_abs'] > bal_thresh) & \n",
    "        (df['amount_to_balance'] > 0.5)\n",
    "    ).astype(int)\n",
    "    \n",
    "    # Time features\n",
    "    df['hour_of_day'] = ((df['step'] - 1) % 24) + 1\n",
    "    df['day_of_week'] = ((df['step'] - 1) // 24) % 7\n",
    "    df['is_weekend'] = ((df['day_of_week'] == 5) | (df['day_of_week'] == 6)).astype(int)\n",
    "    \n",
    "    # Categorical encoding\n",
    "    df = pd.get_dummies(df, columns=['type'], prefix='type')\n",
    "    \n",
    "    return df"
   ]
  },
  {
   "cell_type": "markdown",
   "id": "d9173ff7-7770-4657-baec-2bf1ba890960",
   "metadata": {},
   "source": [
    "#### 4- Model Training (src/train.py)\n",
    "\n",
    "#### Implementation:"
   ]
  },
  {
   "cell_type": "code",
   "execution_count": null,
   "id": "157696e9-9898-4343-bb1c-9842c891dcf5",
   "metadata": {},
   "outputs": [],
   "source": [
    "# src/train.py\n",
    "from sklearn.ensemble import RandomForestClassifier\n",
    "from joblib import dump\n",
    "from src.preprocess import load_and_preprocess\n",
    "from src.config import MODEL_PATH, RANDOM_STATE\n",
    "from sklearn.metrics import classification_report\n",
    "import pandas as pd\n",
    "import os\n",
    "\n",
    "def train_model():\n",
    "    print(\"🚀 Starting model training...\")\n",
    "    \n",
    "    # Load and preprocess data\n",
    "    print(\"🔍 Loading and preprocessing data...\")\n",
    "    X_res, y_res, X_test, y_test, pt = load_and_preprocess()\n",
    "    \n",
    "    # Initialize model\n",
    "    print(\"🤖 Initializing Random Forest model...\")\n",
    "    model = RandomForestClassifier(\n",
    "        class_weight='balanced',\n",
    "        n_estimators=50,\n",
    "        max_depth=7,\n",
    "        max_samples=0.8,\n",
    "        n_jobs=-1,\n",
    "        random_state=RANDOM_STATE\n",
    "    )\n",
    "    \n",
    "    # Train model\n",
    "    print(\"⚡ Training model...\")\n",
    "    model.fit(X_res, y_res)\n",
    "    \n",
    "    # Evaluate\n",
    "    print(\"🧪 Evaluating model...\")\n",
    "    y_pred = model.predict(X_test)\n",
    "    print(classification_report(y_test, y_pred))\n",
    "    \n",
    "    # Create models directory if it doesn't exist\n",
    "    os.makedirs(os.path.dirname(MODEL_PATH), exist_ok=True)\n",
    "    \n",
    "    # Save ALL required artifacts\n",
    "    artifacts = {\n",
    "        'model': model,\n",
    "        'transformer': pt,\n",
    "        'feature_order': X_res.columns.tolist() if hasattr(X_res, 'columns') else [],\n",
    "        'metadata': {\n",
    "            'training_date': datetime.now().isoformat(),\n",
    "            'git_commit': os.getenv('GIT_COMMIT', 'unknown'),\n",
    "            'python_version': os.getenv('PYTHON_VERSION', 'unknown')\n",
    "        }\n",
    "    }\n",
    "    \n",
    "    dump(artifacts, MODEL_PATH)\n",
    "    print(f\"\\n✅ Model successfully saved to {MODEL_PATH}\")\n",
    "    \n",
    "if __name__ == '__main__':\n",
    "    train_model()"
   ]
  },
  {
   "cell_type": "markdown",
   "id": "38611308-64a9-4425-bfcf-540702b9ca01",
   "metadata": {},
   "source": [
    "#### To train the model:\n",
    "\n",
    "python src/train.py"
   ]
  },
  {
   "cell_type": "markdown",
   "id": "e0c55dd5-de1e-4a20-bd86-a222075ace27",
   "metadata": {},
   "source": [
    "#### Expected Output:"
   ]
  },
  {
   "cell_type": "code",
   "execution_count": null,
   "id": "e2c6f4d5-dde9-4026-8951-09ccac797619",
   "metadata": {},
   "outputs": [],
   "source": [
    "🚀 Starting model training...\n",
    "✅ Model successfully saved to models/fraud_model.joblib"
   ]
  },
  {
   "cell_type": "markdown",
   "id": "7de0dd47-8dad-4eb3-a2b2-1a1f71aea391",
   "metadata": {},
   "source": [
    "#### 5- Predict.py"
   ]
  },
  {
   "cell_type": "code",
   "execution_count": null,
   "id": "152d6444-508e-4e86-910f-9cc1c6582c0e",
   "metadata": {},
   "outputs": [],
   "source": [
    "# src/predict.py\n",
    "from joblib import load\n",
    "import pandas as pd\n",
    "from src.config import MODEL_PATH, AppConfig\n",
    "import json\n",
    "from datetime import datetime\n",
    "import logging\n",
    "import os\n",
    "\n",
    "class FraudPredictor:\n",
    "    def __init__(self, test_mode=False):\n",
    "        self.test_mode = test_mode\n",
    "        self.model = None\n",
    "        self.pt = None\n",
    "        self.feature_order = []\n",
    "        self._init_logging()\n",
    "        \n",
    "        if not test_mode:\n",
    "            try:\n",
    "                self._load_model()\n",
    "            except Exception as e:\n",
    "                print(f\"⚠️ Failed to load model: {str(e)}\")\n",
    "                # Fallback to test mode if model loading fails\n",
    "                self.test_mode = True\n",
    "\n",
    "    def _load_model(self):\n",
    "        \"\"\"Load model artifacts with validation\"\"\"\n",
    "        if not os.path.exists(MODEL_PATH):\n",
    "            raise FileNotFoundError(f\"Model file not found at {MODEL_PATH}\")\n",
    "            \n",
    "        artifacts = load(MODEL_PATH)\n",
    "        \n",
    "        # Validate all required components exist\n",
    "        required_keys = {'model', 'transformer', 'feature_order'}\n",
    "        missing_keys = required_keys - set(artifacts.keys())\n",
    "        if missing_keys:\n",
    "            raise ValueError(f\"Missing required keys in model file: {missing_keys}\")\n",
    "            \n",
    "        self.model = artifacts['model']\n",
    "        self.pt = artifacts['transformer']\n",
    "        self.feature_order = artifacts.get('feature_order', [])\n",
    "        \n",
    "        print(\"✅ Model loaded successfully\")\n",
    "        print(f\"Model trained on: {artifacts.get('metadata', {}).get('training_date', 'unknown')}\")\n",
    "\n",
    "    def _init_logging(self):\n",
    "        \"\"\"Set up prediction logging\"\"\"\n",
    "        os.makedirs(os.path.dirname(AppConfig.PREDICTION_LOGS), exist_ok=True)\n",
    "        logging.basicConfig(\n",
    "            filename=AppConfig.PREDICTION_LOGS,\n",
    "            format='%(asctime)s - %(message)s',\n",
    "            level=logging.INFO\n",
    "        )\n",
    "        self.logger = logging.getLogger(__name__)\n",
    "\n",
    "    def _validate_input(self, data: dict) -> None:\n",
    "        \"\"\"Ensure minimum required fields exist\"\"\"\n",
    "        required_fields = {\n",
    "            'amount', 'oldbalanceOrg', 'newbalanceOrig',\n",
    "            'oldbalanceDest', 'newbalanceDest', 'step',\n",
    "            'isFlaggedFraud', 'type'\n",
    "        }\n",
    "        missing = required_fields - set(data.keys())\n",
    "        if missing:\n",
    "            raise ValueError(f\"Missing required fields: {missing}\")\n",
    "\n",
    "    def log_prediction(self, data: dict, prediction: int):\n",
    "        \"\"\"Log prediction with context\"\"\"\n",
    "        log_entry = {\n",
    "            \"timestamp\": datetime.now().isoformat(),\n",
    "            \"input\": {k: v for k, v in data.items() if k != 'type'},\n",
    "            \"prediction\": prediction,\n",
    "            \"model_version\": \"1.0.0\",\n",
    "            \"test_mode\": self.test_mode\n",
    "        }\n",
    "        self.logger.info(json.dumps(log_entry))\n",
    "\n",
    "    def preprocess(self, transaction_data: dict):\n",
    "        \"\"\"Recreate features EXACTLY as during training\"\"\"\n",
    "        df = pd.DataFrame([transaction_data])\n",
    "        \n",
    "        # Feature engineering\n",
    "        df['amount_to_balance'] = df['amount'] / (df['oldbalanceOrg'] + 1)\n",
    "        df['high_amount_flag'] = (df['amount'] > 10000).astype(int)\n",
    "        df['balance_change_abs'] = df['oldbalanceOrg'] - df['newbalanceOrig']\n",
    "        df['suspicious_withdrawal'] = (\n",
    "            (df['balance_change_abs'] > 5000) & \n",
    "            (df['amount_to_balance'] > 0.5)\n",
    "        ).astype(int)\n",
    "        \n",
    "        # Time features\n",
    "        df['hour_of_day'] = ((df['step'] - 1) % 24) + 1\n",
    "        df['day_of_week'] = ((df['step'] - 1) // 24) % 7\n",
    "        df['is_weekend'] = ((df['day_of_week'] == 5) | (df['day_of_week'] == 6)).astype(int)\n",
    "        \n",
    "        # Transaction type handling\n",
    "        valid_types = ['CASH_IN', 'CASH_OUT', 'DEBIT', 'PAYMENT', 'TRANSFER']\n",
    "        for t in valid_types:\n",
    "            df[f'type_{t}'] = 0\n",
    "        if 'type' in df and df['type'].iloc[0] in valid_types:\n",
    "            df[f'type_{df[\"type\"].iloc[0]}'] = 1\n",
    "            \n",
    "        # Verify feature match\n",
    "        missing = set(self.feature_order) - set(df.columns)\n",
    "        if missing:\n",
    "            raise ValueError(f\"Missing features after processing: {missing}\")\n",
    "            \n",
    "        return self.pt.transform(df[self.feature_order])\n",
    "\n",
    "    def predict(self, transaction_data: dict) -> int:\n",
    "        \"\"\"Make a fraud prediction\"\"\"\n",
    "        if self.test_mode:\n",
    "            self.log_prediction(transaction_data, 0)\n",
    "            return 0  # Dummy prediction in test mode\n",
    "            \n",
    "        try:\n",
    "            self._validate_input(transaction_data)\n",
    "            processed = self.preprocess(transaction_data)\n",
    "            prediction = int(self.model.predict(processed)[0])\n",
    "            self.log_prediction(transaction_data, prediction)\n",
    "            return prediction\n",
    "        except Exception as e:\n",
    "            self.logger.error(f\"Prediction failed: {str(e)}\")\n",
    "            raise RuntimeError(f\"Prediction failed: {str(e)}\")\n",
    "\n",
    "# For testing the predictor directly\n",
    "if __name__ == '__main__':\n",
    "    predictor = FraudPredictor(test_mode=True)\n",
    "    test_data = {\n",
    "        \"amount\": 100,\n",
    "        \"oldbalanceOrg\": 1000,\n",
    "        \"newbalanceOrig\": 900,\n",
    "        \"oldbalanceDest\": 500,\n",
    "        \"newbalanceDest\": 600,\n",
    "        \"step\": 1,\n",
    "        \"isFlaggedFraud\": 0,\n",
    "        \"type\": \"TRANSFER\"\n",
    "    }\n",
    "    print(\"Test prediction:\", predictor.predict(test_data))"
   ]
  },
  {
   "cell_type": "markdown",
   "id": "ca0ceafc-dc3a-4a0a-8216-f21f31e9cd48",
   "metadata": {},
   "source": [
    "#### 6- Evaluate.py"
   ]
  },
  {
   "cell_type": "code",
   "execution_count": null,
   "id": "d5c2c483-ea5d-4dd4-b85d-3224f9e03af7",
   "metadata": {},
   "outputs": [],
   "source": [
    "from sklearn.metrics import classification_report, confusion_matrix\n",
    "import matplotlib.pyplot as plt\n",
    "import seaborn as sns\n",
    "\n",
    "def evaluate(y_true, y_pred):\n",
    "    print(classification_report(y_true, y_pred))\n",
    "    \n",
    "    cm = confusion_matrix(y_true, y_pred)\n",
    "    plt.figure(figsize=(6,4))\n",
    "    sns.heatmap(cm, annot=True, fmt='d', cmap='Blues')\n",
    "    plt.show()"
   ]
  },
  {
   "cell_type": "markdown",
   "id": "2fe99ce4-2d85-457c-85ac-b159f0e91400",
   "metadata": {},
   "source": [
    "#### Now create empty __init__.py "
   ]
  },
  {
   "cell_type": "markdown",
   "id": "c173bffb-12a1-48a3-a551-ed57b8817104",
   "metadata": {},
   "source": [
    "#### setup.py"
   ]
  },
  {
   "cell_type": "code",
   "execution_count": null,
   "id": "c35b740f-a0e4-4a9d-ab81-d4960416caf5",
   "metadata": {},
   "outputs": [],
   "source": [
    "from setuptools import setup, find_packages\n",
    "\n",
    "setup(\n",
    "    name=\"fraud-detection\",\n",
    "    version=\"0.1\",\n",
    "    packages=find_packages(include=['src*']), \n",
    "    install_requires=[\n",
    "        'pandas>=1.5.0',\n",
    "        'scikit-learn>=1.2.0',\n",
    "        'Flask>=2.0.0',\n",
    "        'joblib>=1.0.0',\n",
    "        'imbalanced-learn>=0.10.0',\n",
    "        'scipy>=1.7.0',\n",
    "        'numpy>=1.21.0',\n",
    "        'waitress>=2.1.0'\n",
    "    ],\n",
    ")"
   ]
  },
  {
   "cell_type": "markdown",
   "id": "be76da64-6949-4e75-b8b3-630142c68c74",
   "metadata": {},
   "source": [
    "### Phase 2: Local Testing & Validation"
   ]
  },
  {
   "cell_type": "markdown",
   "id": "94ab323f-625d-43b6-adc1-d4b0001cd154",
   "metadata": {},
   "source": [
    "#### Flask API Implementation (src/app.py)\n",
    "\n",
    "#### Key Endpoints:\n",
    "/health: Service status check\n",
    "\n",
    "/predict: Fraud prediction endpoint"
   ]
  },
  {
   "cell_type": "code",
   "execution_count": null,
   "id": "94d1a777-1c4a-4862-9057-e97a17ce530b",
   "metadata": {},
   "outputs": [],
   "source": [
    "from flask import Flask, request, jsonify\n",
    "from src.predict import FraudPredictor\n",
    "from datetime import datetime\n",
    "from src.config import AppConfig\n",
    "import os\n",
    "from pathlib import Path\n",
    "\n",
    "app = Flask(__name__)\n",
    "\n",
    "def get_model_path():\n",
    "    \"\"\"Resolve model path for both development and Docker environments\"\"\"\n",
    "    # Try multiple possible locations\n",
    "    possible_paths = [\n",
    "        Path('models/fraud_model.joblib'),  # Development\n",
    "        Path('/app/models/fraud_model.joblib'),  # Docker\n",
    "        Path(__file__).parent.parent / 'models' / 'fraud_model.joblib'  # Relative to app\n",
    "    ]\n",
    "    \n",
    "    for path in possible_paths:\n",
    "        if path.exists():\n",
    "            return str(path)\n",
    "    return None\n",
    "\n",
    "def get_data_path():\n",
    "    \"\"\"Resolve data file path\"\"\"\n",
    "    possible_paths = [\n",
    "        Path('data/sample_fraud.csv'),  # Development\n",
    "        Path('/app/data/sample_fraud.csv'),  # Docker\n",
    "        Path(__file__).parent.parent / 'data' / 'sample_fraud.csv'  # Relative to app\n",
    "    ]\n",
    "    \n",
    "    for path in possible_paths:\n",
    "        if path.exists():\n",
    "            return str(path)\n",
    "    return None\n",
    "\n",
    "# Initialize predictor with proper paths\n",
    "model_path = get_model_path()\n",
    "data_path = get_data_path()\n",
    "\n",
    "is_ci = os.getenv('GITHUB_ACTIONS') == 'true'\n",
    "predictor = FraudPredictor(\n",
    "    test_mode=is_ci or not model_path,\n",
    "    model_path=model_path,\n",
    "    data_path=data_path\n",
    ")\n",
    "\n",
    "@app.route('/predict', methods=['POST'])\n",
    "def predict():\n",
    "    try:\n",
    "        data = request.get_json()\n",
    "        \n",
    "        if not data:\n",
    "            return jsonify({\"error\": \"No JSON provided\"}), 400\n",
    "            \n",
    "        # Validate required fields\n",
    "        required_fields = {\n",
    "            'amount', 'oldbalanceOrg', 'newbalanceOrig',\n",
    "            'oldbalanceDest', 'newbalanceDest', 'step',\n",
    "            'isFlaggedFraud', 'type'\n",
    "        }\n",
    "        missing = required_fields - set(data.keys())\n",
    "        if missing:\n",
    "            return jsonify({\"error\": f\"Missing required fields: {missing}\", \"status\": \"input_error\"}), 400\n",
    "\n",
    "        prediction = predictor.predict(data)\n",
    "        \n",
    "        return jsonify({\n",
    "            \"fraud_prediction\": prediction,\n",
    "            \"model_info\": {\n",
    "                \"version\": \"1.0.0\",\n",
    "                \"type\": \"RandomForest\",\n",
    "                \"test_mode\": predictor.test_mode,\n",
    "                \"model_used\": str(model_path) if model_path else \"none\",\n",
    "                \"data_used\": str(data_path) if data_path else \"none\"\n",
    "            },\n",
    "            \"status\": \"success\"\n",
    "        })\n",
    "        \n",
    "    except Exception as e:\n",
    "        return jsonify({\"error\": str(e), \"status\": \"server_error\"}), 500\n",
    "\n",
    "@app.route('/health', methods=['GET'])\n",
    "def health():\n",
    "    return jsonify({\n",
    "        \"status\": \"healthy\",\n",
    "        \"timestamp\": datetime.now().isoformat(),\n",
    "        \"model_loaded\": not predictor.test_mode,\n",
    "        \"model_path\": str(model_path) if model_path else \"none\",\n",
    "        \"data_path\": str(data_path) if data_path else \"none\"\n",
    "    })\n",
    "\n",
    "if __name__ == '__main__':\n",
    "    app.run(host=AppConfig.HOST, port=AppConfig.PORT, debug=AppConfig.DEBUG)"
   ]
  },
  {
   "cell_type": "markdown",
   "id": "7133f0c6-84b6-4283-a72c-e6b21ac3507d",
   "metadata": {},
   "source": [
    "#### To run locally:"
   ]
  },
  {
   "cell_type": "code",
   "execution_count": null,
   "id": "326ff7ce-7712-4f03-be0f-ec04ab41807e",
   "metadata": {},
   "outputs": [],
   "source": [
    "# Install dependencies\n",
    "pip install -r requirements.txt\n",
    "\n",
    "# Run the Training\n",
    "python src\\train.py\n",
    "\n",
    "# Run Flask\n",
    "python src/app.py"
   ]
  },
  {
   "cell_type": "markdown",
   "id": "6f2d4e10-a455-4be2-86a8-a61db026c127",
   "metadata": {},
   "source": [
    "#### Test the API:"
   ]
  },
  {
   "cell_type": "code",
   "execution_count": null,
   "id": "cac761ca-b768-4407-a5eb-7709d7b216f0",
   "metadata": {},
   "outputs": [],
   "source": [
    "curl -X POST http://localhost:8080/predict ^\n",
    "-H \"Content-Type: application/json\" ^\n",
    "-d \"{^\n",
    "\\\"step\\\": 1,^\n",
    "\\\"amount\\\": 9839.64,^\n",
    "\\\"oldbalanceOrg\\\": 170136.0,^\n",
    "\\\"newbalanceOrig\\\": 160296.36,^\n",
    "\\\"oldbalanceDest\\\": 0.0,^\n",
    "\\\"newbalanceDest\\\": 9839.64,^\n",
    "\\\"isFlaggedFraud\\\": 0,^\n",
    "\\\"type\\\": \\\"CASH_OUT\\\",^\n",
    "\\\"amount_to_balance\\\": 0.0578,^\n",
    "\\\"high_amount_flag\\\": 1,^\n",
    "\\\"balance_change_abs\\\": 9839.64,^\n",
    "\\\"suspicious_withdrawal\\\": 0,^\n",
    "\\\"hour_of_day\\\": 1,^\n",
    "\\\"day_of_week\\\": 0,^\n",
    "\\\"is_weekend\\\": 0^\n",
    "}\""
   ]
  },
  {
   "cell_type": "markdown",
   "id": "c148448e-29ff-4d52-8752-4353d11d97e6",
   "metadata": {},
   "source": [
    "#### Create tests/test_app.py "
   ]
  },
  {
   "cell_type": "code",
   "execution_count": null,
   "id": "34ac991f-b759-438d-8c1d-e54dfe2a3006",
   "metadata": {},
   "outputs": [],
   "source": [
    "import unittest\n",
    "from src.app import app\n",
    "import os\n",
    "import json\n",
    "\n",
    "class TestAPI(unittest.TestCase):\n",
    "    def setUp(self):\n",
    "        app.config['TESTING'] = True\n",
    "        self.client = app.test_client()\n",
    "        self.test_data = {\n",
    "            \"amount\": 100,\n",
    "            \"oldbalanceOrg\": 1000,\n",
    "            \"newbalanceOrig\": 900,\n",
    "            \"oldbalanceDest\": 500,\n",
    "            \"newbalanceDest\": 600,\n",
    "            \"step\": 1,\n",
    "            \"isFlaggedFraud\": 0,\n",
    "            \"type\": \"TRANSFER\"\n",
    "        }\n",
    "    \n",
    "    def test_health_check(self):\n",
    "        response = self.client.get('/health')\n",
    "        self.assertEqual(response.status_code, 200)\n",
    "        self.assertEqual(response.json['status'], 'healthy')\n",
    "        # Don't assert model_loaded since it depends on environment\n",
    "\n",
    "    def test_predict_endpoint(self):\n",
    "        response = self.client.post('/predict', json=self.test_data)\n",
    "        self.assertEqual(response.status_code, 200)\n",
    "        self.assertIn('fraud_prediction', response.json)\n",
    "        # Accept either test mode or not\n",
    "        self.assertIn(response.json['model_info']['test_mode'], [True, False])\n",
    "\n",
    "    def test_invalid_input(self):\n",
    "        invalid_data = self.test_data.copy()\n",
    "        invalid_data.pop('amount')\n",
    "        response = self.client.post('/predict', json=invalid_data)\n",
    "        self.assertIn(response.status_code, [400, 500])  # Accept either error code\n",
    "\n",
    "if __name__ == '__main__':\n",
    "    unittest.main()"
   ]
  },
  {
   "cell_type": "markdown",
   "id": "aa086d5d-7a1f-4472-824f-651c0b7042c0",
   "metadata": {},
   "source": [
    "### 4. Docker Containerization\n",
    "#### Dockerfile Configuration"
   ]
  },
  {
   "cell_type": "code",
   "execution_count": null,
   "id": "feaab33e-1bd9-49bb-88f5-d96763e7dfa1",
   "metadata": {},
   "outputs": [],
   "source": [
    "FROM python:3.10-slim\n",
    "\n",
    "WORKDIR /app\n",
    "\n",
    "# Install system dependencies\n",
    "RUN apt-get update && apt-get install -y \\\n",
    "    gcc \\\n",
    "    python3-dev \\\n",
    "    && rm -rf /var/lib/apt/lists/*\n",
    "\n",
    "# Copy requirements first\n",
    "COPY requirements.txt .\n",
    "RUN pip install --no-cache-dir -r requirements.txt\n",
    "\n",
    "# Copy application code\n",
    "COPY src/ ./src/\n",
    "COPY app.py .\n",
    "COPY config.py .\n",
    "\n",
    "# Create data directory and copy sample data\n",
    "RUN mkdir -p /app/data\n",
    "COPY data/sample_fraud.csv /app/data/\n",
    "\n",
    "# Copy model file (must exist in build context)\n",
    "COPY models/fraud_model.joblib /app/models/\n",
    "\n",
    "# Environment variables\n",
    "ENV MODEL_PATH=/app/models/fraud_model.joblib\n",
    "ENV FLASK_APP=app.py\n",
    "ENV PYTHONPATH=/app\n",
    "\n",
    "EXPOSE 8080\n",
    "CMD [\"python\", \"-c\", \"from waitress import serve; from app import app; serve(app, host='0.0.0.0', port=8080)\"]"
   ]
  },
  {
   "cell_type": "markdown",
   "id": "77fc1679-c89b-4921-af62-1f013957afce",
   "metadata": {},
   "source": [
    "#### Create Your serve.py file serves two main purposes:\n",
    "\n",
    "#### 1- Replaces Flask's Development Server\n",
    "\n",
    "##### Flask's built-in server (app.run()) is not suitable for production (slow, insecure, single-threaded).\n",
    "\n",
    "##### waitress is a production-ready WSGI server that handles multiple requests efficiently.\n",
    "\n",
    "#### 2- Standardizes the Startup Process\n",
    "\n",
    "##### Provides a consistent entry point for Docker to launch your app.\n",
    "\n",
    "##### Ensures directories exist and logging is configured before starting."
   ]
  },
  {
   "cell_type": "markdown",
   "id": "4c8f3334-4c31-4c23-b807-fe479d557c3b",
   "metadata": {},
   "source": [
    "#### serve.py"
   ]
  },
  {
   "cell_type": "code",
   "execution_count": null,
   "id": "d08c38c3-f99d-4d4f-8ad1-9bf00ec33149",
   "metadata": {},
   "outputs": [],
   "source": [
    "from waitress import serve\n",
    "from app import app  # Import your Flask app\n",
    "from src.config import PROJECT_ROOT\n",
    "import os\n",
    "import logging\n",
    "\n",
    "# Production configuration\n",
    "MODEL_DIR = PROJECT_ROOT / 'models'\n",
    "os.makedirs(MODEL_DIR, exist_ok=True)\n",
    "\n",
    "# Configure logging\n",
    "logging.basicConfig(level=logging.INFO)\n",
    "logger = logging.getLogger('waitress')\n",
    "logger.info('Starting server...')\n",
    "\n",
    "if __name__ == '__main__':\n",
    "    print(f\"🚀 Serving fraud detection API on http://localhost:8080\")\n",
    "    serve(app, host='0.0.0.0', port=8080)  # Production-ready server"
   ]
  },
  {
   "cell_type": "markdown",
   "id": "c3494647-b615-4a04-8c94-ce2a905c0c23",
   "metadata": {},
   "source": [
    "#### Build & Run"
   ]
  },
  {
   "cell_type": "code",
   "execution_count": null,
   "id": "01e1e0fb-63fe-423a-beb8-77d5e13b7cf7",
   "metadata": {},
   "outputs": [],
   "source": [
    "docker build -t fraud-detection-api .\n",
    "docker run -p 8080:8080 fraud-detection-api "
   ]
  },
  {
   "cell_type": "markdown",
   "id": "589f7dfa-8474-41fe-a917-5b5938e78e28",
   "metadata": {},
   "source": [
    "#### Test the API "
   ]
  },
  {
   "cell_type": "code",
   "execution_count": null,
   "id": "f05989df-d7b0-4bc5-9425-9d4ea06cdf1c",
   "metadata": {},
   "outputs": [],
   "source": [
    "curl -X POST http://localhost:8080/predict ^\n",
    "-H \"Content-Type: application/json\" ^\n",
    "-d \"{\\\"step\\\":1,\\\"amount\\\":1000,\\\"oldbalanceOrg\\\":5000,\\\"newbalanceOrig\\\":4000,\\\"oldbalanceDest\\\":0,\\\"newbalanceDest\\\":1000,\\\"isFlaggedFraud\\\":0,\\\"amount_to_balance\\\":0.2,\\\"high_amount_flag\\\":0,\\\"balance_change_abs\\\":1000,\\\"suspicious_withdrawal\\\":0,\\\"hour_of_day\\\":10,\\\"day_of_week\\\":2,\\\"is_weekend\\\":0,\\\"type\\\":\\\"CASH_OUT\\\",\\\"type_CASH_IN\\\":0,\\\"type_CASH_OUT\\\":1,\\\"type_DEBIT\\\":0,\\\"type_PAYMENT\\\":0,\\\"type_TRANSFER\\\":0}\"\n"
   ]
  },
  {
   "cell_type": "markdown",
   "id": "31878e63-45d4-47d0-b62a-1684745c5681",
   "metadata": {},
   "source": [
    "### 5. Local Kubernetes Deployment"
   ]
  },
  {
   "cell_type": "markdown",
   "id": "af3a08c7-10f0-4eb1-bf14-3c628368fb3f",
   "metadata": {},
   "source": [
    "#### Kubernetes Deployment Manifest\n",
    "#### deployment.yaml"
   ]
  },
  {
   "cell_type": "code",
   "execution_count": null,
   "id": "d75cdbc5-1d59-4ab7-a84f-acf35f976d52",
   "metadata": {},
   "outputs": [],
   "source": [
    "apiVersion: apps/v1\n",
    "kind: Deployment\n",
    "metadata:\n",
    "  name: fraud-detection-api\n",
    "spec:\n",
    "  replicas: 2\n",
    "  selector:\n",
    "    matchLabels:\n",
    "      app: fraud-detection\n",
    "  template:\n",
    "    metadata:\n",
    "      labels:\n",
    "        app: fraud-detection\n",
    "    spec:\n",
    "      containers:\n",
    "      - name: fraud-api\n",
    "        image: moeyahya/fraud-detection-api:latest\n",
    "        imagePullPolicy: Always\n",
    "        ports:\n",
    "        - containerPort: 8080\n",
    "        env:\n",
    "        - name: MODEL_PATH\n",
    "          value: \"/app/models/fraud_model.joblib\"\n",
    "        volumeMounts:\n",
    "        - mountPath: /app/models\n",
    "          name: models-volume\n",
    "        resources:\n",
    "          requests:\n",
    "            cpu: \"100m\"\n",
    "            memory: \"128Mi\"\n",
    "          limits:\n",
    "            cpu: \"500m\"\n",
    "            memory: \"512Mi\"\n",
    "      volumes:\n",
    "      - name: models-volume\n",
    "        emptyDir: {}"
   ]
  },
  {
   "cell_type": "markdown",
   "id": "f6eac27e-33fe-41a1-b9ac-2ff3743a7e8a",
   "metadata": {},
   "source": [
    "#### service.yaml "
   ]
  },
  {
   "cell_type": "code",
   "execution_count": null,
   "id": "ddc43dbf-b2fa-47f2-b113-48e0f0971cf6",
   "metadata": {},
   "outputs": [],
   "source": [
    "apiVersion: v1\n",
    "kind: Service\n",
    "metadata:\n",
    "  name: fraud-detection-service\n",
    "spec:\n",
    "  type: NodePort\n",
    "  selector:\n",
    "    app: fraud-detection\n",
    "  ports:\n",
    "    - protocol: TCP\n",
    "      port: 80\n",
    "      targetPort: 8080\n",
    "      nodePort: 30080"
   ]
  },
  {
   "cell_type": "markdown",
   "id": "227b9500-718e-4a6a-a20f-e028fa838fca",
   "metadata": {},
   "source": [
    "#### To deploy:"
   ]
  },
  {
   "cell_type": "code",
   "execution_count": null,
   "id": "3be76975-b536-4226-9d2c-e186e90b557d",
   "metadata": {},
   "outputs": [],
   "source": [
    "Apply Configurations\n",
    "kubectl apply -f deployments/deployment.yaml\n",
    "kubectl apply -f deployments/service.yaml"
   ]
  },
  {
   "cell_type": "markdown",
   "id": "ad5e268e-c1e9-4bc4-aa74-a600c5dd3202",
   "metadata": {},
   "source": [
    "#### Verify deployment:"
   ]
  },
  {
   "cell_type": "code",
   "execution_count": null,
   "id": "42060b86-f84d-4d57-8a93-6a3f2beea308",
   "metadata": {},
   "outputs": [],
   "source": [
    "kubectl get pods\n",
    "kubectl get services"
   ]
  },
  {
   "cell_type": "markdown",
   "id": "cfd426a0-81e3-44ef-93d6-41f451d8b57f",
   "metadata": {},
   "source": [
    "###  AWS ECS Fargate Deployment\n",
    "\n",
    "#### AWS Infrastructure Setup\n",
    "\n",
    "##### 1- Create ECR Repository:"
   ]
  },
  {
   "cell_type": "code",
   "execution_count": null,
   "id": "0d37d072-0a24-4a84-84fb-3c814bca1c6b",
   "metadata": {},
   "outputs": [],
   "source": [
    "aws ecr create-repository --repository-name fraud-detection-api --region ca-central-1"
   ]
  },
  {
   "cell_type": "markdown",
   "id": "cf096058-0e46-45d5-81c7-272cc5520dcf",
   "metadata": {},
   "source": [
    "#### 2- Push Docker Image:"
   ]
  },
  {
   "cell_type": "code",
   "execution_count": null,
   "id": "83dfb702-059a-4b53-a6d9-3f4f3a5e174d",
   "metadata": {},
   "outputs": [],
   "source": [
    "aws ecr get-login-password --region ca-central-1 | docker login --username AWS --password-stdin 311410995726.dkr.ecr.ca-central-1.amazonaws.com\n",
    "\n",
    "docker tag fraud-detection-api:latest 311410995726.dkr.ecr.ca-central-1.amazonaws.com/fraud-detection-api:latest\n",
    "\n",
    "docker push 311410995726.dkr.ecr.ca-central-1.amazonaws.com/fraud-detection-api:latest"
   ]
  },
  {
   "cell_type": "markdown",
   "id": "bece5367-0933-4735-9a5f-225d20b7465d",
   "metadata": {},
   "source": [
    "### GitHub Setup & CI\n",
    "#### Initialize Git Repository"
   ]
  },
  {
   "cell_type": "code",
   "execution_count": null,
   "id": "81a9e871-40ca-411d-8f10-f064a9eb58b0",
   "metadata": {},
   "outputs": [],
   "source": [
    "git init\n",
    "git add .\n",
    "git commit -m \"Initial commit\"\n",
    "\n",
    "# Create GitHub repo manually first\n",
    "git remote add origin https://github.com/yourusername/fraud-detection.git\n",
    "git push -u origin main"
   ]
  },
  {
   "cell_type": "markdown",
   "id": "e339b7b2-5c13-49fc-8973-e728c5da8022",
   "metadata": {},
   "source": [
    "### Configure GitHub Actions\n",
    "#### GitHub Actions Workflow (ci.yml)"
   ]
  },
  {
   "cell_type": "code",
   "execution_count": null,
   "id": "17a16875-c9bf-4737-8898-8d2f04785c14",
   "metadata": {},
   "outputs": [],
   "source": [
    "name: Continuous Integration\n",
    "\n",
    "on:\n",
    "  push:\n",
    "    branches: [ \"main\" ]\n",
    "  pull_request:\n",
    "    branches: [ \"main\" ]\n",
    "\n",
    "jobs:\n",
    "  test:\n",
    "    runs-on: ubuntu-latest\n",
    "    timeout-minutes: 15\n",
    "\n",
    "    steps:\n",
    "    - uses: actions/checkout@v4\n",
    "    \n",
    "    - name: Set up Python 3.10\n",
    "      uses: actions/setup-python@v4\n",
    "      with:\n",
    "        python-version: '3.10'\n",
    "        cache: 'pip'\n",
    "\n",
    "    - name: Install dependencies\n",
    "      run: |\n",
    "        python -m pip install --upgrade pip\n",
    "        pip install pandas pytest pytest-cov joblib scikit-learn imbalanced-learn\n",
    "        pip install -e .\n",
    "\n",
    "    - name: Create sample data\n",
    "      run: |\n",
    "        mkdir -p data\n",
    "        python -c \"\n",
    "        import pandas as pd;\n",
    "        df = pd.DataFrame({\n",
    "            'step': [1, 2, 3, 4, 5],\n",
    "            'type': ['CASH_IN', 'CASH_OUT', 'PAYMENT', 'TRANSFER', 'DEBIT'],\n",
    "            'amount': [100, 200, 300, 400, 500],\n",
    "            'nameOrig': ['A', 'B', 'C', 'D', 'E'],\n",
    "            'oldbalanceOrg': [1000, 2000, 3000, 4000, 5000],\n",
    "            'newbalanceOrig': [900, 1900, 2900, 3900, 4900],\n",
    "            'nameDest': ['X', 'Y', 'Z', 'W', 'V'],\n",
    "            'oldbalanceDest': [500, 600, 700, 800, 900],\n",
    "            'newbalanceDest': [600, 700, 800, 900, 1000],\n",
    "            'isFraud': [0, 1, 0, 1, 0],\n",
    "            'isFlaggedFraud': [0, 0, 0, 0, 0]\n",
    "        });\n",
    "        df.to_csv('data/sample_fraud.csv', index=False)\n",
    "        \"\n",
    "\n",
    "    - name: Run tests\n",
    "      run: |\n",
    "        PYTHONPATH=$PYTHONPATH:$GITHUB_WORKSPACE pytest tests/ \\\n",
    "          --cov=src \\\n",
    "          --cov-report=xml \\\n",
    "          --cov-report=term-missing \\\n",
    "          -v\n",
    "\n",
    "    - name: Upload coverage\n",
    "      uses: codecov/codecov-action@v3\n",
    "      with:\n",
    "        token: ${{ secrets.CODECOV_TOKEN }}\n",
    "        files: coverage.xml\n",
    "        flags: unittests"
   ]
  },
  {
   "cell_type": "markdown",
   "id": "673ca086-88e6-4ed7-8a10-20f0d9eb3ea7",
   "metadata": {},
   "source": [
    "#### AWS Infrastructure Setup"
   ]
  },
  {
   "cell_type": "markdown",
   "id": "f9603f58-4bf5-4b63-88a8-06c1a083cf6b",
   "metadata": {},
   "source": [
    "#### Create S3 Bucket for Artifacts"
   ]
  },
  {
   "cell_type": "code",
   "execution_count": null,
   "id": "1268f35d-d3f3-4341-be4f-808b2d1cfaa4",
   "metadata": {},
   "outputs": [],
   "source": [
    "$BUCKET_NAME = \"fraud-detection-artifacts-\" + (Get-Date -Format \"yyyyMMddHHmmss\")\n",
    "aws s3api create-bucket --bucket $BUCKET_NAME --region ca-central-1 --create-bucket-configuration LocationConstraint=ca-central-1"
   ]
  },
  {
   "cell_type": "markdown",
   "id": "0d195268-84ba-4a73-b873-3888971d1ffc",
   "metadata": {},
   "source": [
    "#### Bucket-policy.json "
   ]
  },
  {
   "cell_type": "code",
   "execution_count": null,
   "id": "e8e5930b-cdf0-49e7-9f06-d6f33f6ab33f",
   "metadata": {},
   "outputs": [],
   "source": [
    "{\n",
    "  \"Version\": \"2012-10-17\",\n",
    "  \"Statement\": [\n",
    "    {\n",
    "      \"Effect\": \"Allow\",\n",
    "      \"Principal\": {\n",
    "        \"Service\": \"codepipeline.amazonaws.com\"\n",
    "      },\n",
    "      \"Action\": [\n",
    "        \"s3:GetObject\",\n",
    "        \"s3:GetObjectVersion\",\n",
    "        \"s3:GetBucketVersioning\",\n",
    "        \"s3:PutObject\"\n",
    "      ],\n",
    "      \"Resource\": [\n",
    "        \"arn:aws:s3:::fraud-detection-artifacts-*/*\",\n",
    "        \"arn:aws:s3:::fraud-detection-artifacts-*\"\n",
    "      ]\n",
    "    }\n",
    "  ]\n",
    "}\n"
   ]
  },
  {
   "cell_type": "code",
   "execution_count": null,
   "id": "c79e5ae5-1812-44d6-81b3-52c4bbba6cb3",
   "metadata": {},
   "outputs": [],
   "source": [
    "aws s3api put-bucket-policy --bucket $BUCKET_NAME --policy file://deployments/bucket-policy.json"
   ]
  },
  {
   "cell_type": "markdown",
   "id": "3512cdf4-6d9e-4404-9276-2cb01e2b4b5f",
   "metadata": {},
   "source": [
    "#### Create IAM Roles\n",
    "##### Codebuild Role"
   ]
  },
  {
   "cell_type": "code",
   "execution_count": null,
   "id": "e117352a-1dac-4e0c-bd56-dcfaa0597c90",
   "metadata": {},
   "outputs": [],
   "source": [
    "// C:\\Projects\\fraud-detection-cicd\\deployments\\codebuild-role.json\n",
    "{\n",
    "  \"Version\": \"2012-10-17\",\n",
    "  \"Statement\": [\n",
    "    {\n",
    "      \"Effect\": \"Allow\",\n",
    "      \"Principal\": {\n",
    "        \"Service\": \"codebuild.amazonaws.com\"\n",
    "      },\n",
    "      \"Action\": \"sts:AssumeRole\"\n",
    "    }\n",
    "  ]\n",
    "}\n"
   ]
  },
  {
   "cell_type": "code",
   "execution_count": null,
   "id": "3f2f32da-4f07-4642-980c-a46bf4621d6b",
   "metadata": {},
   "outputs": [],
   "source": [
    "aws iam create-role --role-name CodeBuildFraudDetectionRole --assume-role-policy-document file://deployments/codebuild-role.json\n",
    "\n",
    "# Attach managed policies\n",
    "aws iam attach-role-policy --role-name CodeBuildFraudDetectionRole --policy-arn arn:aws:iam::aws:policy/AmazonEC2ContainerRegistryPowerUser\n",
    "aws iam attach-role-policy --role-name CodeBuildFraudDetectionRole --policy-arn arn:aws:iam::aws:policy/AmazonS3FullAccess\n",
    "aws iam attach-role-policy --role-name CodeBuildFraudDetectionRole --policy-arn arn:aws:iam::aws:policy/AmazonECS_FullAccess"
   ]
  },
  {
   "cell_type": "markdown",
   "id": "70b05add-c4a4-4427-ad7b-ae392ac052bb",
   "metadata": {},
   "source": [
    "#### Attach Custom Policies"
   ]
  },
  {
   "cell_type": "code",
   "execution_count": null,
   "id": "63ae0904-82ce-4676-ab68-7e49140c60fd",
   "metadata": {},
   "outputs": [],
   "source": [
    "{\n",
    "  \"Version\": \"2012-10-17\",\n",
    "  \"Statement\": [\n",
    "    {\n",
    "      \"Effect\": \"Allow\",\n",
    "      \"Action\": [\n",
    "        \"ecr:GetAuthorizationToken\",\n",
    "        \"ecr:BatchCheckLayerAvailability\",\n",
    "        \"ecr:GetDownloadUrlForLayer\",\n",
    "        \"ecr:GetRepositoryPolicy\",\n",
    "        \"ecr:DescribeRepositories\",\n",
    "        \"ecr:ListImages\",\n",
    "        \"ecr:DescribeImages\",\n",
    "        \"ecr:BatchGetImage\",\n",
    "        \"ecr:InitiateLayerUpload\",\n",
    "        \"ecr:UploadLayerPart\",\n",
    "        \"ecr:CompleteLayerUpload\",\n",
    "        \"ecr:PutImage\",\n",
    "        \"ecr:CreateRepository\"\n",
    "      ],\n",
    "      \"Resource\": \"*\"\n",
    "    },\n",
    "    {\n",
    "      \"Effect\": \"Allow\",\n",
    "      \"Action\": [\n",
    "        \"logs:CreateLogGroup\",\n",
    "        \"logs:CreateLogStream\",\n",
    "        \"logs:PutLogEvents\"\n",
    "      ],\n",
    "      \"Resource\": \"arn:aws:logs:ca-central-1:311410995726:*\"\n",
    "    },\n",
    "    {\n",
    "      \"Effect\": \"Allow\",\n",
    "      \"Action\": [\n",
    "        \"s3:GetObject\",\n",
    "        \"s3:GetObjectVersion\",\n",
    "        \"s3:PutObject\"\n",
    "      ],\n",
    "      \"Resource\": \"arn:aws:s3:::codepipeline-ca-central-1-*/*\"\n",
    "    }\n",
    "  ]\n",
    "}"
   ]
  },
  {
   "cell_type": "code",
   "execution_count": null,
   "id": "2fcc2993-770e-4be5-9b79-6f2510d04af0",
   "metadata": {},
   "outputs": [],
   "source": [
    "aws iam put-role-policy --role-name CodeBuildFraudDetectionRole --policy-name CodeBuildECR --policy-document file://deployments/codebuild-policy.json"
   ]
  },
  {
   "cell_type": "markdown",
   "id": "23ffa432-23af-4841-a98b-ead6d63c3298",
   "metadata": {},
   "source": [
    "#### CodePipeline Role"
   ]
  },
  {
   "cell_type": "code",
   "execution_count": null,
   "id": "6f3beff1-0ca5-42b1-ba7c-270f7bf55184",
   "metadata": {},
   "outputs": [],
   "source": [
    "{\n",
    "  \"Version\": \"2012-10-17\",\n",
    "  \"Statement\": [\n",
    "    {\n",
    "      \"Effect\": \"Allow\",\n",
    "      \"Principal\": {\n",
    "        \"Service\": \"codepipeline.amazonaws.com\"\n",
    "      },\n",
    "      \"Action\": \"sts:AssumeRole\"\n",
    "    }\n",
    "  ]\n",
    "}"
   ]
  },
  {
   "cell_type": "code",
   "execution_count": null,
   "id": "b981b1c6-1d15-4254-bb88-799fbe734cd2",
   "metadata": {},
   "outputs": [],
   "source": [
    "aws iam create-role --role-name CodePipelineServiceRole --assume-role-policy-document file://deployments/codepipeline-role.json\n",
    "\n",
    "# Attach managed policies\n",
    "aws iam attach-role-policy --role-name CodePipelineServiceRole --policy-arn arn:aws:iam::aws:policy/AmazonS3FullAccess\n",
    "aws iam attach-role-policy --role-name CodePipelineServiceRole --policy-arn arn:aws:iam::aws:policy/AWSCodePipeline_FullAccess"
   ]
  },
  {
   "cell_type": "markdown",
   "id": "f4e69532-a7d0-4ca5-934e-8865103cecd4",
   "metadata": {},
   "source": [
    "#### Attach custom ECS policy\n",
    "##### ecs-policy.json"
   ]
  },
  {
   "cell_type": "code",
   "execution_count": null,
   "id": "a35b2c57-d051-462b-899f-c321ff93fcb3",
   "metadata": {},
   "outputs": [],
   "source": [
    "{\n",
    "    \"Version\": \"2012-10-17\",\n",
    "    \"Statement\": [\n",
    "        {\n",
    "            \"Effect\": \"Allow\",\n",
    "            \"Action\": [\n",
    "                \"ecs:DescribeServices\",\n",
    "                \"ecs:DescribeTaskDefinition\",\n",
    "                \"ecs:DescribeTasks\",\n",
    "                \"ecs:ListTasks\",\n",
    "                \"ecs:RegisterTaskDefinition\",\n",
    "                \"ecs:UpdateService\"\n",
    "            ],\n",
    "            \"Resource\": \"*\"\n",
    "        },\n",
    "        {\n",
    "            \"Effect\": \"Allow\",\n",
    "            \"Action\": [\n",
    "                \"iam:PassRole\"\n",
    "            ],\n",
    "            \"Resource\": [\n",
    "                \"arn:aws:iam::311410995726:role/ecsTaskExecutionRole\"\n",
    "            ]\n",
    "        }\n",
    "    ]\n",
    "}"
   ]
  },
  {
   "cell_type": "code",
   "execution_count": null,
   "id": "9c029ed0-89e7-4d7b-aa92-06194c65cd7b",
   "metadata": {},
   "outputs": [],
   "source": [
    "aws iam put-role-policy --role-name CodePipelineServiceRole --policy-name ECSPermissions --policy-document file://deployments/ecs-policy.json"
   ]
  },
  {
   "cell_type": "markdown",
   "id": "27ea4cb2-d9da-4665-a6aa-fbacce002f12",
   "metadata": {},
   "source": [
    "#### ECS Task Execution Role"
   ]
  },
  {
   "cell_type": "code",
   "execution_count": null,
   "id": "504fab1c-2757-4cc1-b2c5-8c4471bb6780",
   "metadata": {},
   "outputs": [],
   "source": [
    "aws iam create-role --role-name ecsTaskExecutionRole --assume-role-policy-document file://deployments/ecs-task-execution-role.json\n",
    "\n",
    "# Attach managed policies\n",
    "aws iam attach-role-policy --role-name ecsTaskExecutionRole --policy-arn arn:aws:iam::aws:policy/service-role/AmazonECSTaskExecutionRolePolicy\n",
    "aws iam attach-role-policy --role-name ecsTaskExecutionRole --policy-arn arn:aws:iam::aws:policy/AmazonEC2ContainerRegistryReadOnly"
   ]
  },
  {
   "cell_type": "markdown",
   "id": "b6480d38-b0c5-43c3-ac8e-66458eaeb535",
   "metadata": {},
   "source": [
    "#### Create ECR Repository"
   ]
  },
  {
   "cell_type": "code",
   "execution_count": null,
   "id": "0fecb6e0-f92f-46e3-a3e9-316102723eff",
   "metadata": {},
   "outputs": [],
   "source": [
    "aws ecr create-repository --repository-name fraud-detection-api --region ca-central-1"
   ]
  },
  {
   "cell_type": "markdown",
   "id": "e2577371-6ae1-42b0-81a0-143b5fce5747",
   "metadata": {},
   "source": [
    "#### Push Docker Image"
   ]
  },
  {
   "cell_type": "code",
   "execution_count": null,
   "id": "599f4a50-6b21-4e6e-bae5-e488d962d744",
   "metadata": {},
   "outputs": [],
   "source": [
    "aws ecr get-login-password --region ca-central-1 | docker login --username AWS --password-stdin 311410995726.dkr.ecr.ca-central-1.amazonaws.com\n",
    "\n",
    "docker tag fraud-detection-api:latest 311410995726.dkr.ecr.ca-central-1.amazonaws.com/fraud-detection-api:latest\n",
    "\n",
    "docker push 311410995726.dkr.ecr.ca-central-1.amazonaws.com/fraud-detection-api:latest"
   ]
  },
  {
   "cell_type": "markdown",
   "id": "1842b4ef-2a5a-4509-a404-29bb49c0ce82",
   "metadata": {},
   "source": [
    "#### Configure ECS"
   ]
  },
  {
   "cell_type": "code",
   "execution_count": null,
   "id": "121adb56-50da-48c3-8352-a0f5aae56d38",
   "metadata": {},
   "outputs": [],
   "source": [
    "# task-definition.json\n",
    "{\n",
    "  \"family\": \"fraud-detection-task\",\n",
    "  \"networkMode\": \"awsvpc\",\n",
    "  \"executionRoleArn\": \"arn:aws:iam::311410995726:role/ecsTaskExecutionRole\",\n",
    "  \"containerDefinitions\": [\n",
    "    {\n",
    "      \"name\": \"fraud-detection-api\",\n",
    "      \"image\": \"311410995726.dkr.ecr.ca-central-1.amazonaws.com/fraud-detection-api:latest\",\n",
    "      \"essential\": true,\n",
    "      \"portMappings\": [\n",
    "        {\n",
    "          \"containerPort\": 8080,\n",
    "          \"hostPort\": 8080,\n",
    "          \"protocol\": \"tcp\"\n",
    "        }\n",
    "      ],\n",
    "      \"environment\": [\n",
    "        {\n",
    "          \"name\": \"MODEL_PATH\",\n",
    "          \"value\": \"/app/models/fraud_model.joblib\"\n",
    "        }\n",
    "      ],\n",
    "      \"logConfiguration\": {\n",
    "        \"logDriver\": \"awslogs\",\n",
    "        \"options\": {\n",
    "          \"awslogs-group\": \"/ecs/fraud-detection-task\",\n",
    "          \"awslogs-region\": \"ca-central-1\",\n",
    "          \"awslogs-stream-prefix\": \"ecs\"\n",
    "        }\n",
    "      }\n",
    "    }\n",
    "  ],\n",
    "  \"requiresCompatibilities\": [\"FARGATE\"],\n",
    "  \"cpu\": \"256\",\n",
    "  \"memory\": \"512\"\n",
    "}"
   ]
  },
  {
   "cell_type": "markdown",
   "id": "b189e6c9-1aef-4fc8-9f3a-4f17ffed2459",
   "metadata": {},
   "source": [
    "#### Register Task Definition"
   ]
  },
  {
   "cell_type": "code",
   "execution_count": null,
   "id": "0cdcd19b-9617-4d25-a39e-fdb36378d6ef",
   "metadata": {},
   "outputs": [],
   "source": [
    "aws ecs register-task-definition --cli-input-json file://deployments/task-definition.json"
   ]
  },
  {
   "cell_type": "markdown",
   "id": "17f923bb-1f49-4dd4-b09d-401786cc1894",
   "metadata": {},
   "source": [
    "#### Create ECS Service\n",
    "\n",
    "##### ecs-service.yaml"
   ]
  },
  {
   "cell_type": "code",
   "execution_count": null,
   "id": "fbf9e6a8-44e1-46fd-8d9e-741a41a7add2",
   "metadata": {},
   "outputs": [],
   "source": [
    "service: fraud-detection-service\n",
    "cluster: fraud-detection-cluster\n",
    "taskDefinition: fraud-detection-task\n",
    "desiredCount: 1\n",
    "launchType: FARGATE\n",
    "networkConfiguration:\n",
    "  awsvpcConfiguration:\n",
    "    subnets:\n",
    "      - subnet-12345678  # ← Replace with your subnet\n",
    "      - subnet-87654321  # ← Replace with your subnet\n",
    "    securityGroups:\n",
    "      - sg-12345678     # ← Replace with your security group\n",
    "    assignPublicIp: ENABLED"
   ]
  },
  {
   "cell_type": "code",
   "execution_count": null,
   "id": "887ec113-91d3-4176-8bc5-bf0cb9c71204",
   "metadata": {},
   "outputs": [],
   "source": [
    "aws ecs create-service --cli-input-json file://deployments/ecs-service.yaml"
   ]
  },
  {
   "cell_type": "markdown",
   "id": "61973d4d-0d69-422d-9f77-fdfbf0c876f3",
   "metadata": {},
   "source": [
    "#### AWS CodePipeline Setup\n",
    "\n",
    "#### Pipeline Structure:\n",
    "\n",
    "#### 1- Source Stage: GitHub repository\n",
    "\n",
    "#### 2- Build Stage: CodeBuild project\n",
    "\n",
    "#### 3- Deploy Stage: ECS service update"
   ]
  },
  {
   "cell_type": "markdown",
   "id": "4122789d-adf8-4bda-bcbc-bc4e39869f28",
   "metadata": {},
   "source": [
    "#### CodeBuild Configuration\n",
    "##### Buildspec.yml:"
   ]
  },
  {
   "cell_type": "code",
   "execution_count": null,
   "id": "d41fc853-4653-40ee-ab48-0cf4e1111c8c",
   "metadata": {},
   "outputs": [],
   "source": [
    "version: 0.2\n",
    "\n",
    "env:\n",
    "  variables:\n",
    "    AWS_ACCOUNT_ID: \"311410995726\"\n",
    "    AWS_REGION: \"ca-central-1\"\n",
    "    ECR_REPOSITORY: \"fraud-detection-api\"\n",
    "    IMAGE_TAG: \"latest\"\n",
    "\n",
    "phases:\n",
    "  pre_build:\n",
    "    commands:\n",
    "      - echo \"Logging in to ECR...\"\n",
    "      - aws ecr get-login-password --region $AWS_REGION | docker login --username AWS --password-stdin $AWS_ACCOUNT_ID.dkr.ecr.$AWS_REGION.amazonaws.com\n",
    "      - echo \"Checking ECR repo...\"\n",
    "      - aws ecr describe-repositories --repository-names $ECR_REPOSITORY || aws ecr create-repository --repository-name $ECR_REPOSITORY\n",
    "  build:\n",
    "    commands:\n",
    "      - echo \"Building Docker image...\"\n",
    "      - docker build -t $AWS_ACCOUNT_ID.dkr.ecr.$AWS_REGION.amazonaws.com/$ECR_REPOSITORY:$IMAGE_TAG .\n",
    "      - docker tag $AWS_ACCOUNT_ID.dkr.ecr.$AWS_REGION.amazonaws.com/$ECR_REPOSITORY:$IMAGE_TAG $AWS_ACCOUNT_ID.dkr.ecr.$AWS_REGION.amazonaws.com/$ECR_REPOSITORY:$IMAGE_TAG\n",
    "  post_build:\n",
    "    commands:\n",
    "      - echo \"Pushing to ECR...\"\n",
    "      - docker push $AWS_ACCOUNT_ID.dkr.ecr.$AWS_REGION.amazonaws.com/$ECR_REPOSITORY:$IMAGE_TAG\n",
    "      - echo \"Creating imagedefinitions.json...\"\n",
    "      - printf '[{\"name\":\"fraud-detection-api\",\"imageUri\":\"%s\"}]' $AWS_ACCOUNT_ID.dkr.ecr.$AWS_REGION.amazonaws.com/$ECR_REPOSITORY:$IMAGE_TAG > imagedefinitions.json\n",
    "\n",
    "artifacts:\n",
    "  files:\n",
    "    - imagedefinitions.json"
   ]
  },
  {
   "cell_type": "markdown",
   "id": "e2f6e916-8918-4698-bbc7-42098e034bd0",
   "metadata": {},
   "source": [
    "#### Verification\n",
    "\n",
    "##### Check ECS Service:"
   ]
  },
  {
   "cell_type": "code",
   "execution_count": null,
   "id": "0ea386ca-f1a5-425a-9edf-d4bbc5cb68b3",
   "metadata": {},
   "outputs": [],
   "source": [
    "aws ecs describe-services --cluster fraud-detection-cluster --services fraud-detection-service"
   ]
  },
  {
   "cell_type": "markdown",
   "id": "08a4e3e2-0baf-41da-89ec-d5d2aab496f3",
   "metadata": {},
   "source": [
    "#### CodePipeline Setup\n",
    "##### pipeline.json"
   ]
  },
  {
   "cell_type": "code",
   "execution_count": null,
   "id": "cadf6f1c-cadf-4114-a23e-27433c406b28",
   "metadata": {},
   "outputs": [],
   "source": [
    "{\n",
    "  \"pipeline\": {\n",
    "    \"name\": \"fraud-detection-pipeline\",\n",
    "    \"roleArn\": \"arn:aws:iam::311410995726:role/CodePipelineServiceRole\",\n",
    "    \"artifactStore\": {\n",
    "      \"type\": \"S3\",\n",
    "      \"location\": \"fraud-detection-artifacts-20250430013204\"\n",
    "    },\n",
    "    \"stages\": [\n",
    "      {\n",
    "        \"name\": \"Source\",\n",
    "        \"actions\": [\n",
    "          {\n",
    "            \"name\": \"GitHub_Source\",\n",
    "            \"actionTypeId\": {\n",
    "              \"category\": \"Source\",\n",
    "              \"owner\": \"ThirdParty\",\n",
    "              \"provider\": \"GitHub\",\n",
    "              \"version\": \"1\"\n",
    "            },\n",
    "            \"configuration\": {\n",
    "              \"Owner\": \"moeyahya\",\n",
    "              \"Repo\": \"fraud-detection-ml-api-aws-cicd\",\n",
    "              \"Branch\": \"main\",\n",
    "              \"OAuthToken\": \"{{resolve:secretsmanager:GITHUBTOKENSECRET:SecretString:token}}\"\n",
    "            },\n",
    "            \"outputArtifacts\": [\n",
    "              {\n",
    "                \"name\": \"SourceOutput\"\n",
    "              }\n",
    "            ]\n",
    "          }\n",
    "        ]\n",
    "      },\n",
    "      {\n",
    "        \"name\": \"Build\",\n",
    "        \"actions\": [\n",
    "          {\n",
    "            \"name\": \"Build\",\n",
    "            \"actionTypeId\": {\n",
    "              \"category\": \"Build\",\n",
    "              \"owner\": \"AWS\",\n",
    "              \"provider\": \"CodeBuild\",\n",
    "              \"version\": \"1\"\n",
    "            },\n",
    "            \"configuration\": {\n",
    "              \"ProjectName\": \"fraud-detection-build\"\n",
    "            },\n",
    "            \"inputArtifacts\": [\n",
    "              {\n",
    "                \"name\": \"SourceOutput\"\n",
    "              }\n",
    "            ],\n",
    "            \"outputArtifacts\": [\n",
    "              {\n",
    "                \"name\": \"BuildOutput\"\n",
    "              }\n",
    "            ]\n",
    "          }\n",
    "        ]\n",
    "      },\n",
    "      {\n",
    "        \"name\": \"Deploy\",\n",
    "        \"actions\": [\n",
    "          {\n",
    "            \"name\": \"Deploy\",\n",
    "            \"actionTypeId\": {\n",
    "              \"category\": \"Deploy\",\n",
    "              \"owner\": \"AWS\",\n",
    "              \"provider\": \"ECS\",\n",
    "              \"version\": \"1\"\n",
    "            },\n",
    "            \"configuration\": {\n",
    "              \"ClusterName\": \"fraud-detection-cluster\",\n",
    "              \"ServiceName\": \"fraud-detection-service\",\n",
    "              \"FileName\": \"imagedefinitions.json\"\n",
    "            },\n",
    "            \"inputArtifacts\": [\n",
    "              {\n",
    "                \"name\": \"BuildOutput\"\n",
    "              }\n",
    "            ]\n",
    "          }\n",
    "        ]\n",
    "      }\n",
    "    ]\n",
    "  }\n",
    "}"
   ]
  },
  {
   "cell_type": "markdown",
   "id": "3b2bc8fc-79ea-4c97-a8a2-d9ef428c5ce2",
   "metadata": {},
   "source": [
    "#### Create Pipeline"
   ]
  },
  {
   "cell_type": "code",
   "execution_count": null,
   "id": "d9a08c21-e984-44de-9ee8-7df4bd232c05",
   "metadata": {},
   "outputs": [],
   "source": [
    "aws codepipeline create-pipeline --cli-input-json file://deployments/pipeline.json"
   ]
  },
  {
   "cell_type": "markdown",
   "id": "31a555b3-42f0-4f6b-bf4e-26a64b49d911",
   "metadata": {},
   "source": [
    "#### Start Pipeline "
   ]
  },
  {
   "cell_type": "code",
   "execution_count": null,
   "id": "74291438-04b1-4137-95a3-06d2b24a66b5",
   "metadata": {},
   "outputs": [],
   "source": [
    "aws codepipeline start-pipeline-execution `\n",
    "  --name fraud-detection-pipeline `\n",
    "  --region ca-central-1"
   ]
  },
  {
   "cell_type": "markdown",
   "id": "e8287ca5-161a-4a6f-a718-3c7b1dd8764f",
   "metadata": {},
   "source": [
    "### Verification & Monitoring"
   ]
  },
  {
   "cell_type": "markdown",
   "id": "5eaadaeb-f4e9-4048-acc8-7a7295f90a63",
   "metadata": {},
   "source": [
    "#### Check Pipeline Status"
   ]
  },
  {
   "cell_type": "code",
   "execution_count": null,
   "id": "72045fab-b5eb-4ddc-b747-e80c085178f7",
   "metadata": {},
   "outputs": [],
   "source": [
    "aws codepipeline get-pipeline-state --name fraud-detection-pipeline"
   ]
  },
  {
   "cell_type": "markdown",
   "id": "e74e6551-4ff6-477a-ab51-182aec9a3129",
   "metadata": {},
   "source": [
    "#### Test Live Endpoint"
   ]
  },
  {
   "cell_type": "code",
   "execution_count": null,
   "id": "4b8d350b-6dd3-4128-9ebb-24ce8daf196e",
   "metadata": {},
   "outputs": [],
   "source": [
    "ALB_DNS=$(aws elbv2 describe-load-balancers --query 'LoadBalancers[0].DNSName' --output text)\n",
    "curl -X POST http://$ALB_DNS/predict -H \"Content-Type: application/json\" -d '{\n",
    "    \"amount\": 5000,\n",
    "    \"oldbalanceOrg\": 10000,\n",
    "    \"newbalanceOrig\": 5000,\n",
    "    \"oldbalanceDest\": 2000,\n",
    "    \"newbalanceDest\": 7000,\n",
    "    \"step\": 1,\n",
    "    \"type\": \"CASH_OUT\"\n",
    "}'"
   ]
  },
  {
   "cell_type": "markdown",
   "id": "96b45625-8d24-4b35-bc33-62218360cd46",
   "metadata": {},
   "source": [
    "#### View Logs"
   ]
  },
  {
   "cell_type": "code",
   "execution_count": null,
   "id": "0bafd882-fa93-4f6d-868f-a3ab93e13fbb",
   "metadata": {},
   "outputs": [],
   "source": [
    "aws logs tail /ecs/fraud-detection-task --follow"
   ]
  },
  {
   "cell_type": "markdown",
   "id": "c79f91ff-6bb8-439e-b904-1b92304bd2b1",
   "metadata": {},
   "source": [
    "#### CD Pipeline (cd.yml)"
   ]
  },
  {
   "cell_type": "code",
   "execution_count": null,
   "id": "d0f79e6d-9030-4777-bfa6-b9f1ec10fd5d",
   "metadata": {},
   "outputs": [],
   "source": [
    "name: Continuous Deployment\n",
    "\n",
    "on:\n",
    "  push:\n",
    "    branches: [ \"main\" ]\n",
    "    paths:\n",
    "      - 'src/**'\n",
    "      - 'Dockerfile'\n",
    "      - 'requirements.txt'\n",
    "      - 'deployments/**'\n",
    "\n",
    "jobs:\n",
    "  deploy-to-ecs:\n",
    "    runs-on: ubuntu-latest\n",
    "    environment: production\n",
    "    \n",
    "    steps:\n",
    "    - uses: actions/checkout@v4\n",
    "    \n",
    "    - name: Configure AWS Credentials\n",
    "      uses: aws-actions/configure-aws-credentials@v2\n",
    "      with:\n",
    "        aws-access-key-id: ${{ secrets.AWS_ACCESS_KEY_ID }}\n",
    "        aws-secret-access-key: ${{ secrets.AWS_SECRET_ACCESS_KEY }}\n",
    "        aws-region: ca-central-1\n",
    "\n",
    "    - name: Login to Amazon ECR\n",
    "      id: login-ecr\n",
    "      uses: aws-actions/amazon-ecr-login@v1\n",
    "\n",
    "    - name: Build, tag, and push to ECR\n",
    "      env:\n",
    "        ECR_REGISTRY: ${{ steps.login-ecr.outputs.registry }}\n",
    "        ECR_REPOSITORY: fraud-detection-api\n",
    "        IMAGE_TAG: latest\n",
    "      run: |\n",
    "        docker build -t $ECR_REGISTRY/$ECR_REPOSITORY:$IMAGE_TAG .\n",
    "        docker push $ECR_REGISTRY/$ECR_REPOSITORY:$IMAGE_TAG\n",
    "\n",
    "    - name: Deploy to ECS\n",
    "      run: |\n",
    "        # Register task definition\n",
    "        aws ecs register-task-definition \\\n",
    "          --cli-input-json file://deployments/ecs-task-definition.json \\\n",
    "          --region ca-central-1\n",
    "\n",
    "        # Update ECS service\n",
    "        aws ecs update-service \\\n",
    "          --cluster fraud-api-cluster \\\n",
    "          --service fraud-detection-service \\\n",
    "          --task-definition fraud-detection-task \\\n",
    "          --region ca-central-1"
   ]
  },
  {
   "cell_type": "markdown",
   "id": "bce10c63-3bd2-421f-9728-19e340d52a63",
   "metadata": {},
   "source": [
    "#### Create a .gitignore File (Could becreated at very early stages as we know this will be needed)"
   ]
  },
  {
   "cell_type": "code",
   "execution_count": null,
   "id": "e79b551d-5078-492a-9f1b-79b37bbdaac5",
   "metadata": {},
   "outputs": [],
   "source": [
    "# Data files\n",
    "data/\n",
    "!data/.gitkeep\n",
    "\n",
    "# Byte-compiled files\n",
    "__pycache__/\n",
    "*.pyc\n",
    "\n",
    "# Logs\n",
    "logs/\n",
    "\n",
    "# Models\n",
    "models/\n",
    "\n",
    "# Environment files\n",
    ".env\n",
    ".venv\n",
    "venv/\n",
    "\n",
    "# Editor files\n",
    ".idea/\n",
    ".vscode/\n",
    "*.swp\n",
    "*.swo\n",
    "\n",
    "# System files\n",
    ".DS_Storedata/\n",
    "data/\n",
    "models/\n",
    "logs/\n"
   ]
  },
  {
   "cell_type": "markdown",
   "id": "c40dfa34-c525-4e40-ba29-881d0c472f77",
   "metadata": {},
   "source": [
    "### 2. Set Up AWS Infrastructure\n",
    "#### 2.1 Create ECR Repository"
   ]
  },
  {
   "cell_type": "code",
   "execution_count": null,
   "id": "ff7216fe-64e2-4289-8488-d3c1546e5d92",
   "metadata": {},
   "outputs": [],
   "source": [
    "aws ecr create-repository --repository-name fraud-detection-api --region ca-central-1"
   ]
  },
  {
   "cell_type": "markdown",
   "id": "81edd47f-eed0-47a4-a0dd-e86ac56675f3",
   "metadata": {},
   "source": [
    "#### 2.2 Create ECS Cluster (Fargate) "
   ]
  },
  {
   "cell_type": "code",
   "execution_count": null,
   "id": "17713e34-60f2-4b62-9ecd-4ee66d43b7dd",
   "metadata": {},
   "outputs": [],
   "source": [
    "aws ecs create-cluster --cluster-name fraud-api-cluster --region ca-central-1"
   ]
  },
  {
   "cell_type": "markdown",
   "id": "0cf392d3-69b5-487e-a06b-a0a8870aeca4",
   "metadata": {},
   "source": [
    "#### 2.3 Create S3 Bucket for Artifacts"
   ]
  },
  {
   "cell_type": "code",
   "execution_count": null,
   "id": "cb114f6b-c64c-47b8-bd31-930dc1f7f5de",
   "metadata": {},
   "outputs": [],
   "source": [
    "$BUCKET_NAME = \"fraud-detection-artifacts-\" + (Get-Date -Format \"yyyyMMddHHmmss\")\n",
    "aws s3api create-bucket --bucket $BUCKET_NAME --region ca-central-1"
   ]
  },
  {
   "cell_type": "markdown",
   "id": "5fc34f1d-55f3-41e5-af3d-33c8ee2d3a15",
   "metadata": {},
   "source": [
    "#### 3.3 Create CodeBuild Project"
   ]
  },
  {
   "cell_type": "markdown",
   "id": "212c83da-4728-4f7c-b1c9-3ca44e23debb",
   "metadata": {},
   "source": [
    "#### codebuild-project.json"
   ]
  },
  {
   "cell_type": "code",
   "execution_count": null,
   "id": "eb205463-3377-47d0-bf45-8c626ccd5c7c",
   "metadata": {},
   "outputs": [],
   "source": [
    "{\n",
    "  \"name\": \"fraud-detection-build\",\n",
    "  \"source\": { \"type\": \"CODEPIPELINE\" },\n",
    "  \"artifacts\": { \"type\": \"CODEPIPELINE\" },\n",
    "  \"environment\": {\n",
    "    \"type\": \"LINUX_CONTAINER\",\n",
    "    \"image\": \"aws/codebuild/amazonlinux2-x86_64-standard:4.0\",\n",
    "    \"computeType\": \"BUILD_GENERAL1_SMALL\",\n",
    "    \"privilegedMode\": true,\n",
    "    \"environmentVariables\": [\n",
    "      { \"name\": \"AWS_ACCOUNT_ID\", \"value\": \"311410995726\" },\n",
    "      { \"name\": \"AWS_REGION\", \"value\": \"ca-central-1\" }\n",
    "    ]\n",
    "  },\n",
    "  \"serviceRole\": \"CodeBuildFraudDetectionRole\"\n",
    "}"
   ]
  },
  {
   "cell_type": "code",
   "execution_count": null,
   "id": "7a43d0b9-b5cd-45e7-8c42-af757310a738",
   "metadata": {},
   "outputs": [],
   "source": [
    "aws codebuild create-project --cli-input-json file://deployments/codebuild-project.json --region ca-central-1"
   ]
  }
 ],
 "metadata": {
  "kernelspec": {
   "display_name": "Python 3 (ipykernel)",
   "language": "python",
   "name": "python3"
  },
  "language_info": {
   "codemirror_mode": {
    "name": "ipython",
    "version": 3
   },
   "file_extension": ".py",
   "mimetype": "text/x-python",
   "name": "python",
   "nbconvert_exporter": "python",
   "pygments_lexer": "ipython3",
   "version": "3.13.2"
  }
 },
 "nbformat": 4,
 "nbformat_minor": 5
}
